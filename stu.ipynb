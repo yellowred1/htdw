{
 "cells": [
  {
   "cell_type": "code",
   "execution_count": 1,
   "id": "initial_id",
   "metadata": {
    "collapsed": true,
    "ExecuteTime": {
     "end_time": "2023-11-09T09:08:40.605829600Z",
     "start_time": "2023-11-09T09:08:39.944589500Z"
    }
   },
   "outputs": [],
   "source": [
    "import pymysql\n",
    "import matplotlib.pyplot as plt\n",
    "import seaborn as sns\n",
    "import statsmodels.api as sm\n",
    "import pandas as pd\n",
    "from sklearn.model_selection import train_test_split\n",
    "from sklearn.linear_model import LogisticRegression\n",
    "plt.rcParams['font.sans-serif'] = ['SimHei']\n",
    "plt.rcParams['axes.unicode_minus'] = False\n",
    "\n",
    "from config import conn"
   ]
  },
  {
   "cell_type": "code",
   "execution_count": 2,
   "outputs": [
    {
     "name": "stderr",
     "output_type": "stream",
     "text": [
      "C:\\Users\\HH\\AppData\\Local\\Temp\\ipykernel_119500\\3637193676.py:8: UserWarning: pandas only supports SQLAlchemy connectable (engine/connection) or database string URI or sqlite3 DBAPI2 connection. Other DBAPI2 objects are not tested. Please consider using SQLAlchemy.\n",
      "  data = pd.read_sql(sql_query, conn)\n"
     ]
    }
   ],
   "source": [
    "conn =conn()\n",
    "cursor = conn.cursor()\n",
    "\n",
    "\n",
    "sql_query = \"\"\"\n",
    "select * from tmp_dm_student_status where stu_lesson_type_two <>2 order by stu_id \n",
    "\"\"\"\n",
    "data = pd.read_sql(sql_query, conn)\n",
    "data.drop(columns=['remainder_hour'],inplace=True)\n",
    "data.drop(columns=['stu_name'],inplace=True)\n",
    "data.drop(columns=['stu_lesson_type'],inplace=True)\n",
    "conn.close()"
   ],
   "metadata": {
    "collapsed": false,
    "ExecuteTime": {
     "end_time": "2023-11-09T09:08:46.436939500Z",
     "start_time": "2023-11-09T09:08:40.599823700Z"
    }
   },
   "id": "cab121e4657e38a1"
  },
  {
   "cell_type": "code",
   "execution_count": 3,
   "outputs": [
    {
     "name": "stdout",
     "output_type": "stream",
     "text": [
      "(127047, 19)\n"
     ]
    },
    {
     "data": {
      "text/plain": "     stu_id  stu_age  stu_gender  contract_num  total_contract_amt  \\\n0       160        3         1.0             2             11160.0   \n1     21851       38         1.0             4             58440.0   \n2     21873        3         0.0             1              7980.0   \n3     21883       41         1.0             2              7416.0   \n4     21899        3         1.0             1              8800.0   \n..      ...      ...         ...           ...                 ...   \n96    75617       19         1.0             2             21720.0   \n97    75620       43         0.0             1             12800.0   \n98    75621       15         1.0             3             53940.0   \n99    75627       16         1.0             2             16160.0   \n100   75628       19         1.0             3             28080.0   \n\n     total_lesson_cnt  subject_cnt  lesson_age  stu_lesson_type_two  \\\n0                 150            1         123                    0   \n1                1242            6         112                    0   \n2                 130            2         115                    1   \n3                 124            1         109                    1   \n4                 121            1         124                    1   \n..                ...          ...         ...                  ...   \n96                134            2         123                    1   \n97                164            1         123                    1   \n98                612            4         123                    0   \n99                164            2         123                    1   \n100               262            1         123                    1   \n\n     store_num  renew_status  3month_finished_lesson_qty  \\\n0          1.0             1                           0   \n1          3.0             1                           3   \n2          1.0             1                          14   \n3          2.0             1                           6   \n4          1.0             1                          14   \n..         ...           ...                         ...   \n96         1.0             1                           8   \n97         1.0             1                           7   \n98         1.0             1                           3   \n99         1.0             1                          14   \n100        1.0             1                           4   \n\n     6month_finished_lesson_qty  12month_finished_lesson_qty  xingjian  xufu  \\\n0                             0                            0         0     0   \n1                             5                           21         0     0   \n2                            27                           27         0     0   \n3                            14                           21         0     0   \n4                            23                           39         0     0   \n..                          ...                          ...       ...   ...   \n96                           16                           47         1     0   \n97                            7                            7         0     0   \n98                            3                            5         0     0   \n99                           37                           82         0     0   \n100                           6                            6         0     0   \n\n     shenji city_name   store_list  \n0         0       上海市       七宝,长寿路  \n1         0       上海市  世纪,南方,天山,徐汇  \n2         0       上海市           大华  \n3         0       上海市     漕宝日月光,徐汇  \n4         0       上海市          五角场  \n..      ...       ...          ...  \n96        0       上海市           南方  \n97        0       上海市           南方  \n98        0       上海市           南方  \n99        0       上海市           南方  \n100       0       上海市           南方  \n\n[100 rows x 19 columns]",
      "text/html": "<div>\n<style scoped>\n    .dataframe tbody tr th:only-of-type {\n        vertical-align: middle;\n    }\n\n    .dataframe tbody tr th {\n        vertical-align: top;\n    }\n\n    .dataframe thead th {\n        text-align: right;\n    }\n</style>\n<table border=\"1\" class=\"dataframe\">\n  <thead>\n    <tr style=\"text-align: right;\">\n      <th></th>\n      <th>stu_id</th>\n      <th>stu_age</th>\n      <th>stu_gender</th>\n      <th>contract_num</th>\n      <th>total_contract_amt</th>\n      <th>total_lesson_cnt</th>\n      <th>subject_cnt</th>\n      <th>lesson_age</th>\n      <th>stu_lesson_type_two</th>\n      <th>store_num</th>\n      <th>renew_status</th>\n      <th>3month_finished_lesson_qty</th>\n      <th>6month_finished_lesson_qty</th>\n      <th>12month_finished_lesson_qty</th>\n      <th>xingjian</th>\n      <th>xufu</th>\n      <th>shenji</th>\n      <th>city_name</th>\n      <th>store_list</th>\n    </tr>\n  </thead>\n  <tbody>\n    <tr>\n      <th>0</th>\n      <td>160</td>\n      <td>3</td>\n      <td>1.0</td>\n      <td>2</td>\n      <td>11160.0</td>\n      <td>150</td>\n      <td>1</td>\n      <td>123</td>\n      <td>0</td>\n      <td>1.0</td>\n      <td>1</td>\n      <td>0</td>\n      <td>0</td>\n      <td>0</td>\n      <td>0</td>\n      <td>0</td>\n      <td>0</td>\n      <td>上海市</td>\n      <td>七宝,长寿路</td>\n    </tr>\n    <tr>\n      <th>1</th>\n      <td>21851</td>\n      <td>38</td>\n      <td>1.0</td>\n      <td>4</td>\n      <td>58440.0</td>\n      <td>1242</td>\n      <td>6</td>\n      <td>112</td>\n      <td>0</td>\n      <td>3.0</td>\n      <td>1</td>\n      <td>3</td>\n      <td>5</td>\n      <td>21</td>\n      <td>0</td>\n      <td>0</td>\n      <td>0</td>\n      <td>上海市</td>\n      <td>世纪,南方,天山,徐汇</td>\n    </tr>\n    <tr>\n      <th>2</th>\n      <td>21873</td>\n      <td>3</td>\n      <td>0.0</td>\n      <td>1</td>\n      <td>7980.0</td>\n      <td>130</td>\n      <td>2</td>\n      <td>115</td>\n      <td>1</td>\n      <td>1.0</td>\n      <td>1</td>\n      <td>14</td>\n      <td>27</td>\n      <td>27</td>\n      <td>0</td>\n      <td>0</td>\n      <td>0</td>\n      <td>上海市</td>\n      <td>大华</td>\n    </tr>\n    <tr>\n      <th>3</th>\n      <td>21883</td>\n      <td>41</td>\n      <td>1.0</td>\n      <td>2</td>\n      <td>7416.0</td>\n      <td>124</td>\n      <td>1</td>\n      <td>109</td>\n      <td>1</td>\n      <td>2.0</td>\n      <td>1</td>\n      <td>6</td>\n      <td>14</td>\n      <td>21</td>\n      <td>0</td>\n      <td>0</td>\n      <td>0</td>\n      <td>上海市</td>\n      <td>漕宝日月光,徐汇</td>\n    </tr>\n    <tr>\n      <th>4</th>\n      <td>21899</td>\n      <td>3</td>\n      <td>1.0</td>\n      <td>1</td>\n      <td>8800.0</td>\n      <td>121</td>\n      <td>1</td>\n      <td>124</td>\n      <td>1</td>\n      <td>1.0</td>\n      <td>1</td>\n      <td>14</td>\n      <td>23</td>\n      <td>39</td>\n      <td>0</td>\n      <td>0</td>\n      <td>0</td>\n      <td>上海市</td>\n      <td>五角场</td>\n    </tr>\n    <tr>\n      <th>...</th>\n      <td>...</td>\n      <td>...</td>\n      <td>...</td>\n      <td>...</td>\n      <td>...</td>\n      <td>...</td>\n      <td>...</td>\n      <td>...</td>\n      <td>...</td>\n      <td>...</td>\n      <td>...</td>\n      <td>...</td>\n      <td>...</td>\n      <td>...</td>\n      <td>...</td>\n      <td>...</td>\n      <td>...</td>\n      <td>...</td>\n      <td>...</td>\n    </tr>\n    <tr>\n      <th>96</th>\n      <td>75617</td>\n      <td>19</td>\n      <td>1.0</td>\n      <td>2</td>\n      <td>21720.0</td>\n      <td>134</td>\n      <td>2</td>\n      <td>123</td>\n      <td>1</td>\n      <td>1.0</td>\n      <td>1</td>\n      <td>8</td>\n      <td>16</td>\n      <td>47</td>\n      <td>1</td>\n      <td>0</td>\n      <td>0</td>\n      <td>上海市</td>\n      <td>南方</td>\n    </tr>\n    <tr>\n      <th>97</th>\n      <td>75620</td>\n      <td>43</td>\n      <td>0.0</td>\n      <td>1</td>\n      <td>12800.0</td>\n      <td>164</td>\n      <td>1</td>\n      <td>123</td>\n      <td>1</td>\n      <td>1.0</td>\n      <td>1</td>\n      <td>7</td>\n      <td>7</td>\n      <td>7</td>\n      <td>0</td>\n      <td>0</td>\n      <td>0</td>\n      <td>上海市</td>\n      <td>南方</td>\n    </tr>\n    <tr>\n      <th>98</th>\n      <td>75621</td>\n      <td>15</td>\n      <td>1.0</td>\n      <td>3</td>\n      <td>53940.0</td>\n      <td>612</td>\n      <td>4</td>\n      <td>123</td>\n      <td>0</td>\n      <td>1.0</td>\n      <td>1</td>\n      <td>3</td>\n      <td>3</td>\n      <td>5</td>\n      <td>0</td>\n      <td>0</td>\n      <td>0</td>\n      <td>上海市</td>\n      <td>南方</td>\n    </tr>\n    <tr>\n      <th>99</th>\n      <td>75627</td>\n      <td>16</td>\n      <td>1.0</td>\n      <td>2</td>\n      <td>16160.0</td>\n      <td>164</td>\n      <td>2</td>\n      <td>123</td>\n      <td>1</td>\n      <td>1.0</td>\n      <td>1</td>\n      <td>14</td>\n      <td>37</td>\n      <td>82</td>\n      <td>0</td>\n      <td>0</td>\n      <td>0</td>\n      <td>上海市</td>\n      <td>南方</td>\n    </tr>\n    <tr>\n      <th>100</th>\n      <td>75628</td>\n      <td>19</td>\n      <td>1.0</td>\n      <td>3</td>\n      <td>28080.0</td>\n      <td>262</td>\n      <td>1</td>\n      <td>123</td>\n      <td>1</td>\n      <td>1.0</td>\n      <td>1</td>\n      <td>4</td>\n      <td>6</td>\n      <td>6</td>\n      <td>0</td>\n      <td>0</td>\n      <td>0</td>\n      <td>上海市</td>\n      <td>南方</td>\n    </tr>\n  </tbody>\n</table>\n<p>100 rows × 19 columns</p>\n</div>"
     },
     "execution_count": 3,
     "metadata": {},
     "output_type": "execute_result"
    }
   ],
   "source": [
    "train_data = data[data['city_name']=='上海市']\n",
    "print(train_data.shape)\n",
    "train_data.head(100)\n",
    "# train_data.info()"
   ],
   "metadata": {
    "collapsed": false,
    "ExecuteTime": {
     "end_time": "2023-11-09T09:08:46.489081600Z",
     "start_time": "2023-11-09T09:08:46.437943100Z"
    }
   },
   "id": "8eb2aba4f08a1571"
  },
  {
   "cell_type": "code",
   "execution_count": 4,
   "outputs": [
    {
     "name": "stdout",
     "output_type": "stream",
     "text": [
      "(241459, 19)\n"
     ]
    },
    {
     "data": {
      "text/plain": "         stu_id  stu_age  stu_gender  contract_num  total_contract_amt  \\\n0           160        3         1.0             2             11160.0   \n1         21851       38         1.0             4             58440.0   \n2         21873        3         0.0             1              7980.0   \n3         21883       41         1.0             2              7416.0   \n4         21899        3         1.0             1              8800.0   \n...         ...      ...         ...           ...                 ...   \n119995  1187646       10         0.0             2             24396.0   \n119996  1187647        5         1.0             1              7596.0   \n119997  1187648        5         1.0             4             46768.0   \n119998  1187649        5         1.0             3             23076.0   \n119999  1187650        5         1.0             2             15192.0   \n\n        total_lesson_cnt  subject_cnt  lesson_age  stu_lesson_type_two  \\\n0                    150            1         123                    0   \n1                   1242            6         112                    0   \n2                    130            2         115                    1   \n3                    124            1         109                    1   \n4                    121            1         124                    1   \n...                  ...          ...         ...                  ...   \n119995               276            2          64                    0   \n119996                80            3          62                    0   \n119997               514            3          64                    0   \n119998               220            2          64                    0   \n119999               160            3          64                    0   \n\n        store_num  renew_status  3month_finished_lesson_qty  \\\n0             1.0             1                           0   \n1             3.0             1                           3   \n2             1.0             1                          14   \n3             2.0             1                           6   \n4             1.0             1                          14   \n...           ...           ...                         ...   \n119995        1.0             1                          19   \n119996        1.0             1                           0   \n119997        1.0             1                           9   \n119998        1.0             1                           4   \n119999        1.0             1                           2   \n\n        6month_finished_lesson_qty  12month_finished_lesson_qty  xingjian  \\\n0                                0                            0         0   \n1                                5                           21         0   \n2                               27                           27         0   \n3                               14                           21         0   \n4                               23                           39         0   \n...                            ...                          ...       ...   \n119995                          30                           53         0   \n119996                           0                            0         0   \n119997                          20                           28         0   \n119998                           4                            4         0   \n119999                           2                            2         0   \n\n        xufu  shenji city_name   store_list  \n0          0       0       上海市       七宝,长寿路  \n1          0       0       上海市  世纪,南方,天山,徐汇  \n2          0       0       上海市           大华  \n3          0       0       上海市     漕宝日月光,徐汇  \n4          0       0       上海市          五角场  \n...      ...     ...       ...          ...  \n119995     0       0       杭州市           黄龙  \n119996     0       0       杭州市           黄龙  \n119997     0       0       杭州市           黄龙  \n119998     1       0       杭州市           黄龙  \n119999     0       0       杭州市           黄龙  \n\n[120000 rows x 19 columns]",
      "text/html": "<div>\n<style scoped>\n    .dataframe tbody tr th:only-of-type {\n        vertical-align: middle;\n    }\n\n    .dataframe tbody tr th {\n        vertical-align: top;\n    }\n\n    .dataframe thead th {\n        text-align: right;\n    }\n</style>\n<table border=\"1\" class=\"dataframe\">\n  <thead>\n    <tr style=\"text-align: right;\">\n      <th></th>\n      <th>stu_id</th>\n      <th>stu_age</th>\n      <th>stu_gender</th>\n      <th>contract_num</th>\n      <th>total_contract_amt</th>\n      <th>total_lesson_cnt</th>\n      <th>subject_cnt</th>\n      <th>lesson_age</th>\n      <th>stu_lesson_type_two</th>\n      <th>store_num</th>\n      <th>renew_status</th>\n      <th>3month_finished_lesson_qty</th>\n      <th>6month_finished_lesson_qty</th>\n      <th>12month_finished_lesson_qty</th>\n      <th>xingjian</th>\n      <th>xufu</th>\n      <th>shenji</th>\n      <th>city_name</th>\n      <th>store_list</th>\n    </tr>\n  </thead>\n  <tbody>\n    <tr>\n      <th>0</th>\n      <td>160</td>\n      <td>3</td>\n      <td>1.0</td>\n      <td>2</td>\n      <td>11160.0</td>\n      <td>150</td>\n      <td>1</td>\n      <td>123</td>\n      <td>0</td>\n      <td>1.0</td>\n      <td>1</td>\n      <td>0</td>\n      <td>0</td>\n      <td>0</td>\n      <td>0</td>\n      <td>0</td>\n      <td>0</td>\n      <td>上海市</td>\n      <td>七宝,长寿路</td>\n    </tr>\n    <tr>\n      <th>1</th>\n      <td>21851</td>\n      <td>38</td>\n      <td>1.0</td>\n      <td>4</td>\n      <td>58440.0</td>\n      <td>1242</td>\n      <td>6</td>\n      <td>112</td>\n      <td>0</td>\n      <td>3.0</td>\n      <td>1</td>\n      <td>3</td>\n      <td>5</td>\n      <td>21</td>\n      <td>0</td>\n      <td>0</td>\n      <td>0</td>\n      <td>上海市</td>\n      <td>世纪,南方,天山,徐汇</td>\n    </tr>\n    <tr>\n      <th>2</th>\n      <td>21873</td>\n      <td>3</td>\n      <td>0.0</td>\n      <td>1</td>\n      <td>7980.0</td>\n      <td>130</td>\n      <td>2</td>\n      <td>115</td>\n      <td>1</td>\n      <td>1.0</td>\n      <td>1</td>\n      <td>14</td>\n      <td>27</td>\n      <td>27</td>\n      <td>0</td>\n      <td>0</td>\n      <td>0</td>\n      <td>上海市</td>\n      <td>大华</td>\n    </tr>\n    <tr>\n      <th>3</th>\n      <td>21883</td>\n      <td>41</td>\n      <td>1.0</td>\n      <td>2</td>\n      <td>7416.0</td>\n      <td>124</td>\n      <td>1</td>\n      <td>109</td>\n      <td>1</td>\n      <td>2.0</td>\n      <td>1</td>\n      <td>6</td>\n      <td>14</td>\n      <td>21</td>\n      <td>0</td>\n      <td>0</td>\n      <td>0</td>\n      <td>上海市</td>\n      <td>漕宝日月光,徐汇</td>\n    </tr>\n    <tr>\n      <th>4</th>\n      <td>21899</td>\n      <td>3</td>\n      <td>1.0</td>\n      <td>1</td>\n      <td>8800.0</td>\n      <td>121</td>\n      <td>1</td>\n      <td>124</td>\n      <td>1</td>\n      <td>1.0</td>\n      <td>1</td>\n      <td>14</td>\n      <td>23</td>\n      <td>39</td>\n      <td>0</td>\n      <td>0</td>\n      <td>0</td>\n      <td>上海市</td>\n      <td>五角场</td>\n    </tr>\n    <tr>\n      <th>...</th>\n      <td>...</td>\n      <td>...</td>\n      <td>...</td>\n      <td>...</td>\n      <td>...</td>\n      <td>...</td>\n      <td>...</td>\n      <td>...</td>\n      <td>...</td>\n      <td>...</td>\n      <td>...</td>\n      <td>...</td>\n      <td>...</td>\n      <td>...</td>\n      <td>...</td>\n      <td>...</td>\n      <td>...</td>\n      <td>...</td>\n      <td>...</td>\n    </tr>\n    <tr>\n      <th>119995</th>\n      <td>1187646</td>\n      <td>10</td>\n      <td>0.0</td>\n      <td>2</td>\n      <td>24396.0</td>\n      <td>276</td>\n      <td>2</td>\n      <td>64</td>\n      <td>0</td>\n      <td>1.0</td>\n      <td>1</td>\n      <td>19</td>\n      <td>30</td>\n      <td>53</td>\n      <td>0</td>\n      <td>0</td>\n      <td>0</td>\n      <td>杭州市</td>\n      <td>黄龙</td>\n    </tr>\n    <tr>\n      <th>119996</th>\n      <td>1187647</td>\n      <td>5</td>\n      <td>1.0</td>\n      <td>1</td>\n      <td>7596.0</td>\n      <td>80</td>\n      <td>3</td>\n      <td>62</td>\n      <td>0</td>\n      <td>1.0</td>\n      <td>1</td>\n      <td>0</td>\n      <td>0</td>\n      <td>0</td>\n      <td>0</td>\n      <td>0</td>\n      <td>0</td>\n      <td>杭州市</td>\n      <td>黄龙</td>\n    </tr>\n    <tr>\n      <th>119997</th>\n      <td>1187648</td>\n      <td>5</td>\n      <td>1.0</td>\n      <td>4</td>\n      <td>46768.0</td>\n      <td>514</td>\n      <td>3</td>\n      <td>64</td>\n      <td>0</td>\n      <td>1.0</td>\n      <td>1</td>\n      <td>9</td>\n      <td>20</td>\n      <td>28</td>\n      <td>0</td>\n      <td>0</td>\n      <td>0</td>\n      <td>杭州市</td>\n      <td>黄龙</td>\n    </tr>\n    <tr>\n      <th>119998</th>\n      <td>1187649</td>\n      <td>5</td>\n      <td>1.0</td>\n      <td>3</td>\n      <td>23076.0</td>\n      <td>220</td>\n      <td>2</td>\n      <td>64</td>\n      <td>0</td>\n      <td>1.0</td>\n      <td>1</td>\n      <td>4</td>\n      <td>4</td>\n      <td>4</td>\n      <td>0</td>\n      <td>1</td>\n      <td>0</td>\n      <td>杭州市</td>\n      <td>黄龙</td>\n    </tr>\n    <tr>\n      <th>119999</th>\n      <td>1187650</td>\n      <td>5</td>\n      <td>1.0</td>\n      <td>2</td>\n      <td>15192.0</td>\n      <td>160</td>\n      <td>3</td>\n      <td>64</td>\n      <td>0</td>\n      <td>1.0</td>\n      <td>1</td>\n      <td>2</td>\n      <td>2</td>\n      <td>2</td>\n      <td>0</td>\n      <td>0</td>\n      <td>0</td>\n      <td>杭州市</td>\n      <td>黄龙</td>\n    </tr>\n  </tbody>\n</table>\n<p>120000 rows × 19 columns</p>\n</div>"
     },
     "execution_count": 4,
     "metadata": {},
     "output_type": "execute_result"
    }
   ],
   "source": [
    "test_data = data\n",
    "print(test_data.shape)\n",
    "test_data.head(120000)"
   ],
   "metadata": {
    "collapsed": false,
    "ExecuteTime": {
     "end_time": "2023-11-09T09:08:46.508567900Z",
     "start_time": "2023-11-09T09:08:46.487079800Z"
    }
   },
   "id": "8080d0229ab8c1e4"
  },
  {
   "cell_type": "code",
   "execution_count": 5,
   "outputs": [
    {
     "name": "stdout",
     "output_type": "stream",
     "text": [
      "(241459, 19)\n",
      "<class 'pandas.core.frame.DataFrame'>\n",
      "RangeIndex: 241459 entries, 0 to 241458\n",
      "Data columns (total 19 columns):\n",
      " #   Column                       Non-Null Count   Dtype  \n",
      "---  ------                       --------------   -----  \n",
      " 0   stu_id                       241459 non-null  int64  \n",
      " 1   stu_age                      241459 non-null  int64  \n",
      " 2   stu_gender                   241409 non-null  float64\n",
      " 3   contract_num                 241459 non-null  int64  \n",
      " 4   total_contract_amt           241459 non-null  float64\n",
      " 5   total_lesson_cnt             241459 non-null  int64  \n",
      " 6   subject_cnt                  241459 non-null  int64  \n",
      " 7   lesson_age                   241459 non-null  int64  \n",
      " 8   stu_lesson_type_two          241459 non-null  int64  \n",
      " 9   store_num                    234491 non-null  float64\n",
      " 10  renew_status                 241459 non-null  int64  \n",
      " 11  3month_finished_lesson_qty   241459 non-null  int64  \n",
      " 12  6month_finished_lesson_qty   241459 non-null  int64  \n",
      " 13  12month_finished_lesson_qty  241459 non-null  int64  \n",
      " 14  xingjian                     241459 non-null  int64  \n",
      " 15  xufu                         241459 non-null  int64  \n",
      " 16  shenji                       241459 non-null  int64  \n",
      " 17  city_name                    234491 non-null  object \n",
      " 18  store_list                   241459 non-null  object \n",
      "dtypes: float64(3), int64(14), object(2)\n",
      "memory usage: 35.0+ MB\n"
     ]
    }
   ],
   "source": [
    "print(data.shape)\n",
    "data.info()\n",
    "data.describe()\n",
    "data.fillna(0)\n",
    "data.replace()\n",
    "data['stu_gender']=data['stu_gender'].fillna(1)\n",
    "data['store_num']=data['store_num'].fillna(0)"
   ],
   "metadata": {
    "collapsed": false,
    "ExecuteTime": {
     "end_time": "2023-11-09T09:08:46.827152400Z",
     "start_time": "2023-11-09T09:08:46.501125500Z"
    }
   },
   "id": "290d7de2ad8aedcd"
  },
  {
   "cell_type": "code",
   "execution_count": 6,
   "outputs": [
    {
     "data": {
      "text/plain": "<Figure size 640x480 with 1 Axes>",
      "image/png": "[encoded data removed]"
     },
     "metadata": {},
     "output_type": "display_data"
    }
   ],
   "source": [
    "plt.figure()\n",
    "ax = sns.countplot(x='stu_lesson_type_two', data=train_data)\n",
    "x_labels = ax.get_xticklabels()\n",
    "new_labels = ['非结课学员', '结课学员']\n",
    "ax.set_xticklabels(new_labels)\n",
    "for i, bar in enumerate(ax.patches):\n",
    "    height = bar.get_height()\n",
    "    ax.text(bar.get_x() + bar.get_width()/2, height, round(height, 2),color=\"black\", ha='center')\n",
    "plt.show()\n"
   ],
   "metadata": {
    "collapsed": false,
    "ExecuteTime": {
     "end_time": "2023-11-09T09:08:46.952926700Z",
     "start_time": "2023-11-09T09:08:46.828155100Z"
    }
   },
   "id": "c436da39ded5c2ad"
  },
  {
   "cell_type": "code",
   "execution_count": 7,
   "outputs": [
    {
     "name": "stderr",
     "output_type": "stream",
     "text": [
      "C:\\Users\\HH\\AppData\\Local\\Temp\\ipykernel_119500\\3976626187.py:1: SettingWithCopyWarning: \n",
      "A value is trying to be set on a copy of a slice from a DataFrame\n",
      "\n",
      "See the caveats in the documentation: https://pandas.pydata.org/pandas-docs/stable/user_guide/indexing.html#returning-a-view-versus-a-copy\n",
      "  train_data.drop(columns=['city_name'],inplace=True)\n",
      "C:\\Users\\HH\\AppData\\Local\\Temp\\ipykernel_119500\\3976626187.py:4: SettingWithCopyWarning: \n",
      "A value is trying to be set on a copy of a slice from a DataFrame\n",
      "\n",
      "See the caveats in the documentation: https://pandas.pydata.org/pandas-docs/stable/user_guide/indexing.html#returning-a-view-versus-a-copy\n",
      "  train_data.drop(columns=['store_list'],inplace=True)\n"
     ]
    }
   ],
   "source": [
    "train_data.drop(columns=['city_name'],inplace=True)\n",
    "test_data.drop(columns=['city_name'],inplace=True)\n",
    "# data.drop(columns=['city_name'],inplace=True)\n",
    "train_data.drop(columns=['store_list'],inplace=True)\n",
    "test_data.drop(columns=['store_list'],inplace=True)"
   ],
   "metadata": {
    "collapsed": false,
    "ExecuteTime": {
     "end_time": "2023-11-09T09:08:47.004879700Z",
     "start_time": "2023-11-09T09:08:46.954930500Z"
    }
   },
   "id": "3786bd5704a40c57"
  },
  {
   "cell_type": "code",
   "execution_count": 8,
   "outputs": [
    {
     "name": "stdout",
     "output_type": "stream",
     "text": [
      "<class 'pandas.core.frame.DataFrame'>\n",
      "RangeIndex: 241459 entries, 0 to 241458\n",
      "Data columns (total 17 columns):\n",
      " #   Column                       Non-Null Count   Dtype  \n",
      "---  ------                       --------------   -----  \n",
      " 0   stu_id                       241459 non-null  int64  \n",
      " 1   stu_age                      241459 non-null  int64  \n",
      " 2   stu_gender                   241459 non-null  float64\n",
      " 3   contract_num                 241459 non-null  int64  \n",
      " 4   total_contract_amt           241459 non-null  float64\n",
      " 5   total_lesson_cnt             241459 non-null  int64  \n",
      " 6   subject_cnt                  241459 non-null  int64  \n",
      " 7   lesson_age                   241459 non-null  int64  \n",
      " 8   stu_lesson_type_two          241459 non-null  int64  \n",
      " 9   store_num                    241459 non-null  float64\n",
      " 10  renew_status                 241459 non-null  int64  \n",
      " 11  3month_finished_lesson_qty   241459 non-null  int64  \n",
      " 12  6month_finished_lesson_qty   241459 non-null  int64  \n",
      " 13  12month_finished_lesson_qty  241459 non-null  int64  \n",
      " 14  xingjian                     241459 non-null  int64  \n",
      " 15  xufu                         241459 non-null  int64  \n",
      " 16  shenji                       241459 non-null  int64  \n",
      "dtypes: float64(3), int64(14)\n",
      "memory usage: 31.3 MB\n"
     ]
    }
   ],
   "source": [
    "test_data.info()"
   ],
   "metadata": {
    "collapsed": false,
    "ExecuteTime": {
     "end_time": "2023-11-09T09:08:47.023352100Z",
     "start_time": "2023-11-09T09:08:47.001568300Z"
    }
   },
   "id": "c65a3b318bc7575f"
  },
  {
   "cell_type": "code",
   "execution_count": 9,
   "outputs": [],
   "source": [
    "#stu_age\n",
    "def resetAge(input):\n",
    "    if input > 18:\n",
    "        return 4\n",
    "    elif (input > 13) | (input <= 18):\n",
    "        return 3\n",
    "    elif (input > 7) | (input <=13):\n",
    "        return 2\n",
    "    elif (input > 0) | (input <= 7) :\n",
    "        return 1\n",
    "    else:\n",
    "        return 0"
   ],
   "metadata": {
    "collapsed": false,
    "ExecuteTime": {
     "end_time": "2023-11-09T09:08:47.075558200Z",
     "start_time": "2023-11-09T09:08:47.016469400Z"
    }
   },
   "id": "f52d6f7dfaeb2800"
  },
  {
   "cell_type": "code",
   "execution_count": 10,
   "outputs": [
    {
     "name": "stdout",
     "output_type": "stream",
     "text": [
      "<class 'pandas.core.frame.DataFrame'>\n",
      "RangeIndex: 241459 entries, 0 to 241458\n",
      "Data columns (total 17 columns):\n",
      " #   Column                       Non-Null Count   Dtype  \n",
      "---  ------                       --------------   -----  \n",
      " 0   stu_id                       241459 non-null  int64  \n",
      " 1   stu_age                      241459 non-null  int64  \n",
      " 2   stu_gender                   241459 non-null  float64\n",
      " 3   contract_num                 241459 non-null  int64  \n",
      " 4   total_contract_amt           241459 non-null  float64\n",
      " 5   total_lesson_cnt             241459 non-null  int64  \n",
      " 6   subject_cnt                  241459 non-null  int64  \n",
      " 7   lesson_age                   241459 non-null  int64  \n",
      " 8   stu_lesson_type_two          241459 non-null  int64  \n",
      " 9   store_num                    241459 non-null  float64\n",
      " 10  renew_status                 241459 non-null  int64  \n",
      " 11  3month_finished_lesson_qty   241459 non-null  int64  \n",
      " 12  6month_finished_lesson_qty   241459 non-null  int64  \n",
      " 13  12month_finished_lesson_qty  241459 non-null  int64  \n",
      " 14  xingjian                     241459 non-null  int64  \n",
      " 15  xufu                         241459 non-null  int64  \n",
      " 16  shenji                       241459 non-null  int64  \n",
      "dtypes: float64(3), int64(14)\n",
      "memory usage: 31.3 MB\n"
     ]
    }
   ],
   "source": [
    "data['stu_age']=data['stu_age'].apply(resetAge)\n",
    "data.info()"
   ],
   "metadata": {
    "collapsed": false,
    "ExecuteTime": {
     "end_time": "2023-11-09T09:08:47.105095900Z",
     "start_time": "2023-11-09T09:08:47.034089600Z"
    }
   },
   "id": "a37673bf8cfb734d"
  },
  {
   "cell_type": "code",
   "execution_count": 11,
   "outputs": [],
   "source": [
    "num=train_data.shape[0]\n",
    "train_val_x=train_data.iloc[:num].drop(columns=['stu_lesson_type_two'])\n",
    "train_val_y=train_data.iloc[:num]['stu_lesson_type_two']\n",
    "test_x=data.drop('stu_lesson_type_two',axis=1)\n",
    "train_x,val_x,train_y,val_y=train_test_split(train_val_y,train_val_x,test_size=0.25,random_state=45)"
   ],
   "metadata": {
    "collapsed": false,
    "ExecuteTime": {
     "end_time": "2023-11-09T09:08:47.152482800Z",
     "start_time": "2023-11-09T09:08:47.096990200Z"
    }
   },
   "id": "6f44432fe5b279c7"
  },
  {
   "cell_type": "code",
   "execution_count": 12,
   "outputs": [
    {
     "name": "stderr",
     "output_type": "stream",
     "text": [
      "d:\\app\\python3.9\\lib\\site-packages\\scipy\\optimize\\_linesearch.py:466: LineSearchWarning: The line search algorithm did not converge\n",
      "  warn('The line search algorithm did not converge', LineSearchWarning)\n",
      "d:\\app\\python3.9\\lib\\site-packages\\scipy\\optimize\\_linesearch.py:314: LineSearchWarning: The line search algorithm did not converge\n",
      "  warn('The line search algorithm did not converge', LineSearchWarning)\n",
      "d:\\app\\python3.9\\lib\\site-packages\\sklearn\\utils\\optimize.py:211: ConvergenceWarning: newton-cg failed to converge. Increase the number of iterations.\n",
      "  warnings.warn(\n"
     ]
    },
    {
     "data": {
      "text/plain": "array([[0.04409053, 0.95590947],\n       [0.93882818, 0.06117182],\n       [0.05097854, 0.94902146],\n       ...,\n       [0.6721275 , 0.3278725 ],\n       [0.52715186, 0.47284814],\n       [0.49671564, 0.50328436]])"
     },
     "execution_count": 12,
     "metadata": {},
     "output_type": "execute_result"
    }
   ],
   "source": [
    "model=LogisticRegression(C=0.5,solver='newton-cg').fit(train_val_x,train_val_y)\n",
    "result=model.predict_proba(test_x)\n",
    "result"
   ],
   "metadata": {
    "collapsed": false,
    "ExecuteTime": {
     "end_time": "2023-11-09T09:08:50.980314900Z",
     "start_time": "2023-11-09T09:08:47.140745300Z"
    }
   },
   "id": "42931cbd082fc3f4"
  },
  {
   "cell_type": "code",
   "execution_count": 13,
   "outputs": [
    {
     "name": "stderr",
     "output_type": "stream",
     "text": [
      "d:\\app\\python3.9\\lib\\site-packages\\sklearn\\linear_model\\_logistic.py:460: ConvergenceWarning: lbfgs failed to converge (status=1):\n",
      "STOP: TOTAL NO. of ITERATIONS REACHED LIMIT.\n",
      "\n",
      "Increase the number of iterations (max_iter) or scale the data as shown in:\n",
      "    https://scikit-learn.org/stable/modules/preprocessing.html\n",
      "Please also refer to the documentation for alternative solver options:\n",
      "    https://scikit-learn.org/stable/modules/linear_model.html#logistic-regression\n",
      "  n_iter_i = _check_optimize_result(\n"
     ]
    },
    {
     "name": "stdout",
     "output_type": "stream",
     "text": [
      "lr的auc为：0.905\n"
     ]
    }
   ],
   "source": [
    "from sklearn.model_selection import cross_val_score\n",
    "model={}\n",
    "model['lr']=LogisticRegression()\t# ‘lr': 逻辑回归分类器 (LogisticRegression)\n",
    "for i in model:\n",
    "    model[i].fit(train_val_x,train_val_y)\n",
    "    score=cross_val_score(model[i],train_val_x,train_val_y,cv=5,scoring='roc_auc')\n",
    "    print('%s的auc为：%.3f'%(i,score.mean()))"
   ],
   "metadata": {
    "collapsed": false,
    "ExecuteTime": {
     "end_time": "2023-11-09T09:08:52.355296100Z",
     "start_time": "2023-11-09T09:08:50.972583700Z"
    }
   },
   "id": "feabf455102f235b"
  },
  {
   "cell_type": "code",
   "execution_count": 14,
   "outputs": [
    {
     "data": {
      "text/plain": "    stu_id      结课概率\n0      160  0.955909\n1    21851  0.061172\n2    21873  0.949021\n3    21883  0.963080\n4    21899  0.983660\n5    75205  0.144613\n6    75207  0.399895\n7    75210  0.088411\n8    75217  0.976086\n9    75222  0.392124\n10   75226  0.987052\n11   75237  0.927448\n12   75239  0.506884\n13   75243  0.483069\n14   75245  0.933167\n15   75246  0.965613\n16   75252  0.777131\n17   75258  0.975515\n18   75260  0.938931\n19   75267  0.938168\n20   75272  0.960985\n21   75273  0.942070\n22   75274  0.789150\n23   75275  0.956583\n24   75278  0.948537\n25   75280  0.952533\n26   75281  0.708674\n27   75284  0.937466\n28   75287  0.893696\n29   75292  0.974950\n30   75293  0.923597",
      "text/html": "<div>\n<style scoped>\n    .dataframe tbody tr th:only-of-type {\n        vertical-align: middle;\n    }\n\n    .dataframe tbody tr th {\n        vertical-align: top;\n    }\n\n    .dataframe thead th {\n        text-align: right;\n    }\n</style>\n<table border=\"1\" class=\"dataframe\">\n  <thead>\n    <tr style=\"text-align: right;\">\n      <th></th>\n      <th>stu_id</th>\n      <th>结课概率</th>\n    </tr>\n  </thead>\n  <tbody>\n    <tr>\n      <th>0</th>\n      <td>160</td>\n      <td>0.955909</td>\n    </tr>\n    <tr>\n      <th>1</th>\n      <td>21851</td>\n      <td>0.061172</td>\n    </tr>\n    <tr>\n      <th>2</th>\n      <td>21873</td>\n      <td>0.949021</td>\n    </tr>\n    <tr>\n      <th>3</th>\n      <td>21883</td>\n      <td>0.963080</td>\n    </tr>\n    <tr>\n      <th>4</th>\n      <td>21899</td>\n      <td>0.983660</td>\n    </tr>\n    <tr>\n      <th>5</th>\n      <td>75205</td>\n      <td>0.144613</td>\n    </tr>\n    <tr>\n      <th>6</th>\n      <td>75207</td>\n      <td>0.399895</td>\n    </tr>\n    <tr>\n      <th>7</th>\n      <td>75210</td>\n      <td>0.088411</td>\n    </tr>\n    <tr>\n      <th>8</th>\n      <td>75217</td>\n      <td>0.976086</td>\n    </tr>\n    <tr>\n      <th>9</th>\n      <td>75222</td>\n      <td>0.392124</td>\n    </tr>\n    <tr>\n      <th>10</th>\n      <td>75226</td>\n      <td>0.987052</td>\n    </tr>\n    <tr>\n      <th>11</th>\n      <td>75237</td>\n      <td>0.927448</td>\n    </tr>\n    <tr>\n      <th>12</th>\n      <td>75239</td>\n      <td>0.506884</td>\n    </tr>\n    <tr>\n      <th>13</th>\n      <td>75243</td>\n      <td>0.483069</td>\n    </tr>\n    <tr>\n      <th>14</th>\n      <td>75245</td>\n      <td>0.933167</td>\n    </tr>\n    <tr>\n      <th>15</th>\n      <td>75246</td>\n      <td>0.965613</td>\n    </tr>\n    <tr>\n      <th>16</th>\n      <td>75252</td>\n      <td>0.777131</td>\n    </tr>\n    <tr>\n      <th>17</th>\n      <td>75258</td>\n      <td>0.975515</td>\n    </tr>\n    <tr>\n      <th>18</th>\n      <td>75260</td>\n      <td>0.938931</td>\n    </tr>\n    <tr>\n      <th>19</th>\n      <td>75267</td>\n      <td>0.938168</td>\n    </tr>\n    <tr>\n      <th>20</th>\n      <td>75272</td>\n      <td>0.960985</td>\n    </tr>\n    <tr>\n      <th>21</th>\n      <td>75273</td>\n      <td>0.942070</td>\n    </tr>\n    <tr>\n      <th>22</th>\n      <td>75274</td>\n      <td>0.789150</td>\n    </tr>\n    <tr>\n      <th>23</th>\n      <td>75275</td>\n      <td>0.956583</td>\n    </tr>\n    <tr>\n      <th>24</th>\n      <td>75278</td>\n      <td>0.948537</td>\n    </tr>\n    <tr>\n      <th>25</th>\n      <td>75280</td>\n      <td>0.952533</td>\n    </tr>\n    <tr>\n      <th>26</th>\n      <td>75281</td>\n      <td>0.708674</td>\n    </tr>\n    <tr>\n      <th>27</th>\n      <td>75284</td>\n      <td>0.937466</td>\n    </tr>\n    <tr>\n      <th>28</th>\n      <td>75287</td>\n      <td>0.893696</td>\n    </tr>\n    <tr>\n      <th>29</th>\n      <td>75292</td>\n      <td>0.974950</td>\n    </tr>\n    <tr>\n      <th>30</th>\n      <td>75293</td>\n      <td>0.923597</td>\n    </tr>\n  </tbody>\n</table>\n</div>"
     },
     "execution_count": 14,
     "metadata": {},
     "output_type": "execute_result"
    }
   ],
   "source": [
    "user_ids = test_x['stu_id']  \n",
    "predictions = result[:, 1]  # 获取Logistic Regression的预测概率，0是非结课概率 1是结课概率\n",
    "\n",
    "# 创建包含user_id和stu_lesson_type_two概率的DataFrame\n",
    "result_df = pd.DataFrame({'stu_id': user_ids, '结课概率': predictions})\n",
    "# 按照user_id进行升序排序\n",
    "sorted_result = result_df.sort_values(by='stu_id')\n",
    "\n",
    "# 将结果保存到CSV文件\n",
    "sorted_result.to_csv('11.09号预测结果5.csv', index=False)\n",
    "\n",
    "# 打印前几行结果\n",
    "sorted_result.head(31)"
   ],
   "metadata": {
    "collapsed": false,
    "ExecuteTime": {
     "end_time": "2023-11-09T09:08:52.637705400Z",
     "start_time": "2023-11-09T09:08:52.357294700Z"
    }
   },
   "id": "d0d6f6596ae0af77"
  },
  {
   "cell_type": "code",
   "execution_count": 15,
   "outputs": [
    {
     "name": "stdout",
     "output_type": "stream",
     "text": [
      "   stu_id      结课概率\n",
      "2   21873  0.949021\n"
     ]
    }
   ],
   "source": [
    "print(result_df[result_df['stu_id'] == 21873])"
   ],
   "metadata": {
    "collapsed": false,
    "ExecuteTime": {
     "end_time": "2023-11-09T09:08:52.666346100Z",
     "start_time": "2023-11-09T09:08:52.637705400Z"
    }
   },
   "id": "9ebf8eb098618da9"
  },
  {
   "cell_type": "code",
   "execution_count": 16,
   "outputs": [
    {
     "name": "stdout",
     "output_type": "stream",
     "text": [
      "(241459, 2)\n"
     ]
    },
    {
     "data": {
      "text/plain": "    stu_id      结课概率\n0      160  0.955909\n1    21851  0.061172\n2    21873  0.949021\n3    21883  0.963080\n4    21899  0.983660\n..     ...       ...\n95   75613  0.923794\n96   75617  0.968510\n97   75620  0.960403\n98   75621  0.264720\n99   75627  0.979986\n\n[100 rows x 2 columns]",
      "text/html": "<div>\n<style scoped>\n    .dataframe tbody tr th:only-of-type {\n        vertical-align: middle;\n    }\n\n    .dataframe tbody tr th {\n        vertical-align: top;\n    }\n\n    .dataframe thead th {\n        text-align: right;\n    }\n</style>\n<table border=\"1\" class=\"dataframe\">\n  <thead>\n    <tr style=\"text-align: right;\">\n      <th></th>\n      <th>stu_id</th>\n      <th>结课概率</th>\n    </tr>\n  </thead>\n  <tbody>\n    <tr>\n      <th>0</th>\n      <td>160</td>\n      <td>0.955909</td>\n    </tr>\n    <tr>\n      <th>1</th>\n      <td>21851</td>\n      <td>0.061172</td>\n    </tr>\n    <tr>\n      <th>2</th>\n      <td>21873</td>\n      <td>0.949021</td>\n    </tr>\n    <tr>\n      <th>3</th>\n      <td>21883</td>\n      <td>0.963080</td>\n    </tr>\n    <tr>\n      <th>4</th>\n      <td>21899</td>\n      <td>0.983660</td>\n    </tr>\n    <tr>\n      <th>...</th>\n      <td>...</td>\n      <td>...</td>\n    </tr>\n    <tr>\n      <th>95</th>\n      <td>75613</td>\n      <td>0.923794</td>\n    </tr>\n    <tr>\n      <th>96</th>\n      <td>75617</td>\n      <td>0.968510</td>\n    </tr>\n    <tr>\n      <th>97</th>\n      <td>75620</td>\n      <td>0.960403</td>\n    </tr>\n    <tr>\n      <th>98</th>\n      <td>75621</td>\n      <td>0.264720</td>\n    </tr>\n    <tr>\n      <th>99</th>\n      <td>75627</td>\n      <td>0.979986</td>\n    </tr>\n  </tbody>\n</table>\n<p>100 rows × 2 columns</p>\n</div>"
     },
     "execution_count": 16,
     "metadata": {},
     "output_type": "execute_result"
    }
   ],
   "source": [
    "print(result_df.shape)\n",
    "result_df.head(100)\n",
    "# result_df.info()"
   ],
   "metadata": {
    "collapsed": false,
    "ExecuteTime": {
     "end_time": "2023-11-09T09:08:52.733348600Z",
     "start_time": "2023-11-09T09:08:52.654953700Z"
    }
   },
   "id": "aab927d070713e08"
  },
  {
   "cell_type": "code",
   "execution_count": 17,
   "outputs": [
    {
     "name": "stderr",
     "output_type": "stream",
     "text": [
      "C:\\Users\\HH\\AppData\\Local\\Temp\\ipykernel_119500\\1647649301.py:21: UserWarning: pandas only supports SQLAlchemy connectable (engine/connection) or database string URI or sqlite3 DBAPI2 connection. Other DBAPI2 objects are not tested. Please consider using SQLAlchemy.\n",
      "  data10 = pd.read_sql(sql_query, con)\n"
     ]
    }
   ],
   "source": [
    "from config import conn\n",
    "con =conn()\n",
    "cursor = con.cursor()\n",
    "\n",
    "\n",
    "sql_query = \"\"\"\n",
    "select stu_id              ,\n",
    "       stu_name            as '学生名',\n",
    "       stu_age             as '学生年龄',\n",
    "       stu_gender          as '学生性别 1女0男',\n",
    "       stu_lesson_type     as '类型 0:沉睡学员 1:活跃学员 2:未开课 3:结课',\n",
    "       stu_lesson_type_two as '二分类 0是非结课，1是结课',\n",
    "       remainder_hour      as '剩余课时数',\n",
    "       renew_status        as '是否可续费',\n",
    "       city_name           as '城市',\n",
    "       store_list          as '分馆'\n",
    "from tmp_dm_student_status\n",
    "where stu_lesson_type_two <> 2\n",
    "order by stu_id\n",
    "\"\"\"\n",
    "data10 = pd.read_sql(sql_query, con)\n",
    "con.close()"
   ],
   "metadata": {
    "collapsed": false,
    "ExecuteTime": {
     "end_time": "2023-11-09T09:08:55.648463800Z",
     "start_time": "2023-11-09T09:08:52.668984500Z"
    }
   },
   "id": "8f7dc47bdd70fd53"
  },
  {
   "cell_type": "code",
   "execution_count": 18,
   "outputs": [
    {
     "name": "stdout",
     "output_type": "stream",
     "text": [
      "(241459, 10)\n"
     ]
    },
    {
     "data": {
      "text/plain": "           学生名  学生年龄  学生性别 1女0男  类型 0:沉睡学员 1:活跃学员 2:未开课 3:结课  二分类 0是非结课，1是结课  \\\nstu_id                                                                         \n160         杨杨     3        1.0                            2               0   \n21851      许金利    38        1.0                            0               0   \n21873       宋剑     3        0.0                            3               1   \n21883    蔡颖珏徐汇    41        1.0                            3               1   \n21899      潘迦弈     3        1.0                            3               1   \n...        ...   ...        ...                          ...             ...   \n1029357    刘绮涵     2        1.0                            0               0   \n1029426    崔懿欣    10        1.0                            3               1   \n1029435    姚又诚     4        0.0                            3               1   \n1029473     黄颖    30        1.0                            3               1   \n1029474    姜泓宇    10        0.0                            1               0   \n\n         剩余课时数  是否可续费   城市           分馆      结课概率  \nstu_id                                             \n160      110.0      1  上海市       七宝,长寿路  0.955909  \n21851    128.0      1  上海市  世纪,南方,天山,徐汇  0.061172  \n21873      0.0      1  上海市           大华  0.949021  \n21883      0.0      1  上海市     漕宝日月光,徐汇  0.963080  \n21899      0.0      1  上海市          五角场  0.983660  \n...        ...    ...  ...          ...       ...  \n1029357    2.0      1  上海市           金桥  0.810923  \n1029426    0.0      1  上海市           共康  0.757219  \n1029435    0.0      1  上海市           控江  0.846730  \n1029473    1.0      1  上海市           共康  0.622620  \n1029474   85.0      1  深圳市           侨香  0.027940  \n\n[100000 rows x 10 columns]",
      "text/html": "<div>\n<style scoped>\n    .dataframe tbody tr th:only-of-type {\n        vertical-align: middle;\n    }\n\n    .dataframe tbody tr th {\n        vertical-align: top;\n    }\n\n    .dataframe thead th {\n        text-align: right;\n    }\n</style>\n<table border=\"1\" class=\"dataframe\">\n  <thead>\n    <tr style=\"text-align: right;\">\n      <th></th>\n      <th>学生名</th>\n      <th>学生年龄</th>\n      <th>学生性别 1女0男</th>\n      <th>类型 0:沉睡学员 1:活跃学员 2:未开课 3:结课</th>\n      <th>二分类 0是非结课，1是结课</th>\n      <th>剩余课时数</th>\n      <th>是否可续费</th>\n      <th>城市</th>\n      <th>分馆</th>\n      <th>结课概率</th>\n    </tr>\n    <tr>\n      <th>stu_id</th>\n      <th></th>\n      <th></th>\n      <th></th>\n      <th></th>\n      <th></th>\n      <th></th>\n      <th></th>\n      <th></th>\n      <th></th>\n      <th></th>\n    </tr>\n  </thead>\n  <tbody>\n    <tr>\n      <th>160</th>\n      <td>杨杨</td>\n      <td>3</td>\n      <td>1.0</td>\n      <td>2</td>\n      <td>0</td>\n      <td>110.0</td>\n      <td>1</td>\n      <td>上海市</td>\n      <td>七宝,长寿路</td>\n      <td>0.955909</td>\n    </tr>\n    <tr>\n      <th>21851</th>\n      <td>许金利</td>\n      <td>38</td>\n      <td>1.0</td>\n      <td>0</td>\n      <td>0</td>\n      <td>128.0</td>\n      <td>1</td>\n      <td>上海市</td>\n      <td>世纪,南方,天山,徐汇</td>\n      <td>0.061172</td>\n    </tr>\n    <tr>\n      <th>21873</th>\n      <td>宋剑</td>\n      <td>3</td>\n      <td>0.0</td>\n      <td>3</td>\n      <td>1</td>\n      <td>0.0</td>\n      <td>1</td>\n      <td>上海市</td>\n      <td>大华</td>\n      <td>0.949021</td>\n    </tr>\n    <tr>\n      <th>21883</th>\n      <td>蔡颖珏徐汇</td>\n      <td>41</td>\n      <td>1.0</td>\n      <td>3</td>\n      <td>1</td>\n      <td>0.0</td>\n      <td>1</td>\n      <td>上海市</td>\n      <td>漕宝日月光,徐汇</td>\n      <td>0.963080</td>\n    </tr>\n    <tr>\n      <th>21899</th>\n      <td>潘迦弈</td>\n      <td>3</td>\n      <td>1.0</td>\n      <td>3</td>\n      <td>1</td>\n      <td>0.0</td>\n      <td>1</td>\n      <td>上海市</td>\n      <td>五角场</td>\n      <td>0.983660</td>\n    </tr>\n    <tr>\n      <th>...</th>\n      <td>...</td>\n      <td>...</td>\n      <td>...</td>\n      <td>...</td>\n      <td>...</td>\n      <td>...</td>\n      <td>...</td>\n      <td>...</td>\n      <td>...</td>\n      <td>...</td>\n    </tr>\n    <tr>\n      <th>1029357</th>\n      <td>刘绮涵</td>\n      <td>2</td>\n      <td>1.0</td>\n      <td>0</td>\n      <td>0</td>\n      <td>2.0</td>\n      <td>1</td>\n      <td>上海市</td>\n      <td>金桥</td>\n      <td>0.810923</td>\n    </tr>\n    <tr>\n      <th>1029426</th>\n      <td>崔懿欣</td>\n      <td>10</td>\n      <td>1.0</td>\n      <td>3</td>\n      <td>1</td>\n      <td>0.0</td>\n      <td>1</td>\n      <td>上海市</td>\n      <td>共康</td>\n      <td>0.757219</td>\n    </tr>\n    <tr>\n      <th>1029435</th>\n      <td>姚又诚</td>\n      <td>4</td>\n      <td>0.0</td>\n      <td>3</td>\n      <td>1</td>\n      <td>0.0</td>\n      <td>1</td>\n      <td>上海市</td>\n      <td>控江</td>\n      <td>0.846730</td>\n    </tr>\n    <tr>\n      <th>1029473</th>\n      <td>黄颖</td>\n      <td>30</td>\n      <td>1.0</td>\n      <td>3</td>\n      <td>1</td>\n      <td>1.0</td>\n      <td>1</td>\n      <td>上海市</td>\n      <td>共康</td>\n      <td>0.622620</td>\n    </tr>\n    <tr>\n      <th>1029474</th>\n      <td>姜泓宇</td>\n      <td>10</td>\n      <td>0.0</td>\n      <td>1</td>\n      <td>0</td>\n      <td>85.0</td>\n      <td>1</td>\n      <td>深圳市</td>\n      <td>侨香</td>\n      <td>0.027940</td>\n    </tr>\n  </tbody>\n</table>\n<p>100000 rows × 10 columns</p>\n</div>"
     },
     "execution_count": 18,
     "metadata": {},
     "output_type": "execute_result"
    }
   ],
   "source": [
    "new_data=data10.set_index('stu_id').join(result_df.set_index('stu_id'),on='stu_id')\n",
    "print(new_data.shape)\n",
    "new_data.head(100000).sort_values('stu_id',ascending=True)"
   ],
   "metadata": {
    "collapsed": false,
    "ExecuteTime": {
     "end_time": "2023-11-09T09:08:55.761300500Z",
     "start_time": "2023-11-09T09:08:55.649461900Z"
    }
   },
   "id": "7c302f1aaeffa4d2"
  },
  {
   "cell_type": "code",
   "execution_count": 19,
   "outputs": [],
   "source": [
    "new_data.reset_index(inplace=True)\n",
    "new_data.to_csv('11.9号预测结果.csv', index=False)"
   ],
   "metadata": {
    "collapsed": false,
    "ExecuteTime": {
     "end_time": "2023-11-09T09:08:56.490155200Z",
     "start_time": "2023-11-09T09:08:55.757290Z"
    }
   },
   "id": "9e54d7a20ed1c46f"
  },
  {
   "cell_type": "code",
   "execution_count": 20,
   "outputs": [
    {
     "name": "stdout",
     "output_type": "stream",
     "text": [
      "ROC AUC: 0.8732888843315877\n",
      "Accuracy: 0.8256591892955529\n",
      "Recall: 0.9114579917360792\n",
      "F1 Score: 0.8625248262164846\n"
     ]
    },
    {
     "name": "stderr",
     "output_type": "stream",
     "text": [
      "d:\\app\\python3.9\\lib\\site-packages\\sklearn\\utils\\optimize.py:211: ConvergenceWarning: newton-cg failed to converge. Increase the number of iterations.\n",
      "  warnings.warn(\n"
     ]
    }
   ],
   "source": [
    "from sklearn.linear_model import LogisticRegression\n",
    "from sklearn.model_selection import train_test_split\n",
    "from sklearn.metrics import roc_auc_score, accuracy_score, recall_score, f1_score\n",
    "\n",
    "# 分割数据为训练集和测试集\n",
    "train_x, test_x, train_y, test_y = train_test_split(train_val_x,train_val_y, test_size=0.2, random_state=42)\n",
    "\n",
    "# 训练LogisticRegression模型\n",
    "model = LogisticRegression(C=0.5, solver='newton-cg')\n",
    "model.fit(train_x, train_y)\n",
    "\n",
    "# 预测测试集数据\n",
    "predicted_probabilities = model.predict_proba(test_x)[:, 1]\n",
    "\n",
    "# 计算AUC\n",
    "roc_auc = roc_auc_score(test_y, predicted_probabilities)\n",
    "print(f'ROC AUC: {roc_auc}')\n",
    "\n",
    "# 计算准确率\n",
    "accuracy = accuracy_score(test_y, predicted_probabilities.round())\n",
    "print(f'Accuracy: {accuracy}')\n",
    "\n",
    "# 计算召回率\n",
    "recall = recall_score(test_y, predicted_probabilities.round())\n",
    "print(f'Recall: {recall}')\n",
    "\n",
    "# 计算F1分数\n",
    "f1 = f1_score(test_y, predicted_probabilities.round())\n",
    "print(f'F1 Score: {f1}')\n"
   ],
   "metadata": {
    "collapsed": false,
    "ExecuteTime": {
     "end_time": "2023-11-09T09:08:59.128103300Z",
     "start_time": "2023-11-09T09:08:56.493158900Z"
    }
   },
   "id": "f6c548c82d2f460d"
  }
 ],
 "metadata": {
  "kernelspec": {
   "display_name": "Python 3",
   "language": "python",
   "name": "python3"
  },
  "language_info": {
   "codemirror_mode": {
    "name": "ipython",
    "version": 2
   },
   "file_extension": ".py",
   "mimetype": "text/x-python",
   "name": "python",
   "nbconvert_exporter": "python",
   "pygments_lexer": "ipython2",
   "version": "2.7.6"
  }
 },
 "nbformat": 4,
 "nbformat_minor": 5
}
